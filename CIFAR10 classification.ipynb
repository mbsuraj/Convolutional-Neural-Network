{
  "nbformat": 4,
  "nbformat_minor": 0,
  "metadata": {
    "colab": {
      "name": "TeamAssignment2_6.ipynb",
      "provenance": [],
      "collapsed_sections": [],
      "machine_shape": "hm"
    },
    "kernelspec": {
      "name": "python3",
      "display_name": "Python 3"
    },
    "accelerator": "GPU"
  },
  "cells": [
    {
      "cell_type": "code",
      "metadata": {
        "id": "ALhJjV5zvODF",
        "colab_type": "code",
        "colab": {}
      },
      "source": [
        "from __future__ import print_function\n",
        "import keras\n",
        "from keras.datasets import cifar10\n",
        "from keras.models import Sequential\n",
        "from keras.layers import Dense, Dropout, Activation, Flatten, BatchNormalization\n",
        "from keras.layers import Conv2D, MaxPooling2D\n",
        "from keras.layers import LeakyReLU\n",
        "from keras import regularizers\n",
        "from keras.preprocessing.image import ImageDataGenerator\n"
      ],
      "execution_count": 0,
      "outputs": []
    },
    {
      "cell_type": "code",
      "metadata": {
        "id": "arXBhNig1Qgw",
        "colab_type": "code",
        "colab": {}
      },
      "source": [
        "import pandas as pd\n",
        "import numpy as np"
      ],
      "execution_count": 0,
      "outputs": []
    },
    {
      "cell_type": "code",
      "metadata": {
        "id": "ivbXJ6pswUca",
        "colab_type": "code",
        "outputId": "7d087ebf-6750-402c-c0ed-7004d53b1a77",
        "colab": {
          "base_uri": "https://localhost:8080/",
          "height": 68
        }
      },
      "source": [
        "num_classes = 10\n",
        "epochs = 100\n",
        "lrate = 0.001\n",
        "\n",
        "#data, split between train and test sets:\n",
        "(x_train, y_train), (x_test, y_test) = cifar10.load_data()\n",
        "print('x_train shape: ', x_train.shape)\n",
        "print(x_train.shape[0], 'train samples')\n",
        "print(x_test.shape[0], 'test  samples')\n"
      ],
      "execution_count": 0,
      "outputs": [
        {
          "output_type": "stream",
          "text": [
            "x_train shape:  (50000, 32, 32, 3)\n",
            "50000 train samples\n",
            "10000 test  samples\n"
          ],
          "name": "stdout"
        }
      ]
    },
    {
      "cell_type": "code",
      "metadata": {
        "id": "guECJ6GdRGBH",
        "colab_type": "code",
        "colab": {}
      },
      "source": [
        "#converting the data into z-score - normalization\n",
        "x_train = x_train.astype('float32')\n",
        "x_test = x_test.astype('float32')\n",
        "mean = np.mean(x_train,axis=(0,1,2,3))\n",
        "std = np.std(x_train,axis=(0,1,2,3))\n",
        "x_train = (x_train-mean)/(std+1e-7)\n",
        "x_test = (x_test-mean)/(std+1e-7)"
      ],
      "execution_count": 0,
      "outputs": []
    },
    {
      "cell_type": "code",
      "metadata": {
        "id": "wmu6X0tS1FVq",
        "colab_type": "code",
        "outputId": "bc3be16b-0eed-44a7-8901-5c5c9d7856fb",
        "colab": {
          "base_uri": "https://localhost:8080/",
          "height": 204
        }
      },
      "source": [
        "pd.DataFrame(y_train).head()"
      ],
      "execution_count": 0,
      "outputs": [
        {
          "output_type": "execute_result",
          "data": {
            "text/html": [
              "<div>\n",
              "<style scoped>\n",
              "    .dataframe tbody tr th:only-of-type {\n",
              "        vertical-align: middle;\n",
              "    }\n",
              "\n",
              "    .dataframe tbody tr th {\n",
              "        vertical-align: top;\n",
              "    }\n",
              "\n",
              "    .dataframe thead th {\n",
              "        text-align: right;\n",
              "    }\n",
              "</style>\n",
              "<table border=\"1\" class=\"dataframe\">\n",
              "  <thead>\n",
              "    <tr style=\"text-align: right;\">\n",
              "      <th></th>\n",
              "      <th>0</th>\n",
              "    </tr>\n",
              "  </thead>\n",
              "  <tbody>\n",
              "    <tr>\n",
              "      <th>0</th>\n",
              "      <td>6</td>\n",
              "    </tr>\n",
              "    <tr>\n",
              "      <th>1</th>\n",
              "      <td>9</td>\n",
              "    </tr>\n",
              "    <tr>\n",
              "      <th>2</th>\n",
              "      <td>9</td>\n",
              "    </tr>\n",
              "    <tr>\n",
              "      <th>3</th>\n",
              "      <td>4</td>\n",
              "    </tr>\n",
              "    <tr>\n",
              "      <th>4</th>\n",
              "      <td>1</td>\n",
              "    </tr>\n",
              "  </tbody>\n",
              "</table>\n",
              "</div>"
            ],
            "text/plain": [
              "   0\n",
              "0  6\n",
              "1  9\n",
              "2  9\n",
              "3  4\n",
              "4  1"
            ]
          },
          "metadata": {
            "tags": []
          },
          "execution_count": 96
        }
      ]
    },
    {
      "cell_type": "code",
      "metadata": {
        "id": "6C_2m27ozi6R",
        "colab_type": "code",
        "colab": {}
      },
      "source": [
        "# convert class vectors to binary class matrices\n",
        "y_train = keras.utils.to_categorical(y_train, num_classes)\n",
        "y_test = keras.utils.to_categorical(y_test, num_classes)\n"
      ],
      "execution_count": 0,
      "outputs": []
    },
    {
      "cell_type": "code",
      "metadata": {
        "id": "yyqdklfw6OUu",
        "colab_type": "code",
        "outputId": "e349ce36-ee5b-4cb8-a5fe-ffb8f9e7986b",
        "colab": {
          "base_uri": "https://localhost:8080/",
          "height": 34
        }
      },
      "source": [
        "y_train[3]"
      ],
      "execution_count": 0,
      "outputs": [
        {
          "output_type": "execute_result",
          "data": {
            "text/plain": [
              "array([0., 0., 0., 0., 1., 0., 0., 0., 0., 0.], dtype=float32)"
            ]
          },
          "metadata": {
            "tags": []
          },
          "execution_count": 98
        }
      ]
    },
    {
      "cell_type": "code",
      "metadata": {
        "id": "7db3lhSV3nxj",
        "colab_type": "code",
        "colab": {}
      },
      "source": [
        "weight_decay = 1e-4\n",
        "model = Sequential()\n",
        "model.add(Conv2D(filters = 32, kernel_size = (3,3), strides = 1, padding = 'same', input_shape = x_train.shape[1:], kernel_regularizer=regularizers.l2(weight_decay)))\n",
        "model.add(Activation('elu'))\n",
        "model.add(BatchNormalization())\n",
        "model.add(Conv2D(filters = 32, kernel_size = (3,3), strides = 1, padding = 'same', input_shape = x_train.shape[1:],  kernel_regularizer=regularizers.l2(weight_decay)))\n",
        "model.add(Activation('elu'))\n",
        "model.add(BatchNormalization())\n",
        "model.add(MaxPooling2D(pool_size=(2,2), strides=2))\n",
        "model.add(Dropout(0.2))\n"
      ],
      "execution_count": 0,
      "outputs": []
    },
    {
      "cell_type": "code",
      "metadata": {
        "id": "IvNCqj3I-ck-",
        "colab_type": "code",
        "outputId": "7125b7dd-873f-456f-bc5b-21de9190b782",
        "colab": {
          "base_uri": "https://localhost:8080/",
          "height": 34
        }
      },
      "source": [
        "\"\"\"\n",
        "model.add(Conv2D(filters = 32, kernel_size = (3,3), strides = 1, padding = 'same', input_shape = x_train.shape[1:]))\n",
        "model.add(LeakyReLU(alpha = 0.3))\n",
        "\"\"\""
      ],
      "execution_count": 0,
      "outputs": [
        {
          "output_type": "execute_result",
          "data": {
            "text/plain": [
              "\"\\nmodel.add(Conv2D(filters = 32, kernel_size = (3,3), strides = 1, padding = 'same', input_shape = x_train.shape[1:]))\\nmodel.add(LeakyReLU(alpha = 0.3))\\n\""
            ]
          },
          "metadata": {
            "tags": []
          },
          "execution_count": 100
        }
      ]
    },
    {
      "cell_type": "code",
      "metadata": {
        "id": "ZaPcf6R3CG8c",
        "colab_type": "code",
        "colab": {}
      },
      "source": [
        "model.add(Conv2D(filters = 64, kernel_size = (3,3), strides = 1, padding = 'same', input_shape = x_train.shape[1:], kernel_regularizer=regularizers.l2(weight_decay)))\n",
        "model.add(Activation('elu'))\n",
        "model.add(BatchNormalization())\n",
        "model.add(Conv2D(filters = 64, kernel_size = (3,3), strides = 1, padding = 'same', input_shape = x_train.shape[1:], kernel_regularizer=regularizers.l2(weight_decay)))\n",
        "model.add(Activation('elu'))\n",
        "model.add(BatchNormalization())\n",
        "model.add(MaxPooling2D(pool_size=(2,2), strides=2))\n",
        "model.add(Dropout(0.3))\n"
      ],
      "execution_count": 0,
      "outputs": []
    },
    {
      "cell_type": "code",
      "metadata": {
        "id": "1sHsYExTH-ai",
        "colab_type": "code",
        "colab": {}
      },
      "source": [
        "\n",
        "model.add(Conv2D(filters = 128, kernel_size = (3,3), strides = 1, padding = 'same', input_shape = x_train.shape[1:], kernel_regularizer=regularizers.l2(weight_decay)))\n",
        "model.add(Activation('elu'))\n",
        "model.add(BatchNormalization())\n",
        "model.add(Conv2D(filters = 128, kernel_size = (3,3), strides = 1, padding = 'same', input_shape = x_train.shape[1:], kernel_regularizer=regularizers.l2(weight_decay)))\n",
        "model.add(Activation('elu'))\n",
        "model.add(BatchNormalization())\n",
        "model.add(MaxPooling2D(pool_size=(2,2), strides=2))\n",
        "model.add(Dropout(0.4))\n"
      ],
      "execution_count": 0,
      "outputs": []
    },
    {
      "cell_type": "code",
      "metadata": {
        "id": "0heHw_YJIhuT",
        "colab_type": "code",
        "outputId": "c41497dd-f9d9-449f-8168-0701c998870e",
        "colab": {
          "base_uri": "https://localhost:8080/",
          "height": 34
        }
      },
      "source": [
        "\"\"\"\n",
        "model.add(Conv2D(filters = 128, kernel_size = (3,3), strides = 2, padding = 'same', input_shape = x_train.shape[1:]))\n",
        "model.add(Activation('relu'))\n",
        "\"\"\""
      ],
      "execution_count": 0,
      "outputs": [
        {
          "output_type": "execute_result",
          "data": {
            "text/plain": [
              "\"\\nmodel.add(Conv2D(filters = 128, kernel_size = (3,3), strides = 2, padding = 'same', input_shape = x_train.shape[1:]))\\nmodel.add(Activation('relu'))\\n\""
            ]
          },
          "metadata": {
            "tags": []
          },
          "execution_count": 103
        }
      ]
    },
    {
      "cell_type": "code",
      "metadata": {
        "id": "DBb22QB6Iqpr",
        "colab_type": "code",
        "outputId": "29aaae3f-325a-485e-dc99-a3072dbf8700",
        "colab": {
          "base_uri": "https://localhost:8080/",
          "height": 34
        }
      },
      "source": [
        "\n",
        "\"\"\"\n",
        "model.add(Dense(512))\n",
        "model.add(Activation('relu'))\n",
        "model.add(Dropout(0.35))\n",
        "\"\"\""
      ],
      "execution_count": 0,
      "outputs": [
        {
          "output_type": "execute_result",
          "data": {
            "text/plain": [
              "\"\\nmodel.add(Dense(512))\\nmodel.add(Activation('relu'))\\nmodel.add(Dropout(0.35))\\n\""
            ]
          },
          "metadata": {
            "tags": []
          },
          "execution_count": 104
        }
      ]
    },
    {
      "cell_type": "code",
      "metadata": {
        "id": "RcjB4r1gL258",
        "colab_type": "code",
        "outputId": "a5e8ea6d-508a-4a07-d65e-d54bf2ca1f1e",
        "colab": {
          "base_uri": "https://localhost:8080/",
          "height": 34
        }
      },
      "source": [
        "\"\"\"\n",
        "model.add(Dense(768))\n",
        "model.add(Activation('relu'))\n",
        "\"\"\""
      ],
      "execution_count": 0,
      "outputs": [
        {
          "output_type": "execute_result",
          "data": {
            "text/plain": [
              "\"\\nmodel.add(Dense(768))\\nmodel.add(Activation('relu'))\\n\""
            ]
          },
          "metadata": {
            "tags": []
          },
          "execution_count": 105
        }
      ]
    },
    {
      "cell_type": "code",
      "metadata": {
        "id": "odAU-_UuTA7R",
        "colab_type": "code",
        "outputId": "f243ae62-f55a-47f2-f1a4-3be7f0d0d711",
        "colab": {
          "base_uri": "https://localhost:8080/",
          "height": 34
        }
      },
      "source": [
        "\"\"\"\n",
        "model.add(Dense(100))\n",
        "model.add(Activation('relu'))\n",
        "\"\"\""
      ],
      "execution_count": 0,
      "outputs": [
        {
          "output_type": "execute_result",
          "data": {
            "text/plain": [
              "\"\\nmodel.add(Dense(100))\\nmodel.add(Activation('relu'))\\n\""
            ]
          },
          "metadata": {
            "tags": []
          },
          "execution_count": 106
        }
      ]
    },
    {
      "cell_type": "code",
      "metadata": {
        "id": "bzAxMpgsMFLe",
        "colab_type": "code",
        "colab": {}
      },
      "source": [
        "\n",
        "model.add(Flatten())\n",
        "model.add(Dense(num_classes))\n",
        "model.add(Activation('softmax'))\n"
      ],
      "execution_count": 0,
      "outputs": []
    },
    {
      "cell_type": "code",
      "metadata": {
        "id": "GYq7rpdPXjqM",
        "colab_type": "code",
        "colab": {}
      },
      "source": [
        "#data augmentation\n",
        "datagen = ImageDataGenerator(\n",
        "    rotation_range=15,\n",
        "    width_shift_range=0.1,\n",
        "    height_shift_range=0.1,\n",
        "    horizontal_flip=True,\n",
        "    )\n",
        "datagen.fit(x_train)"
      ],
      "execution_count": 0,
      "outputs": []
    },
    {
      "cell_type": "code",
      "metadata": {
        "id": "Che1Hbp3MQeX",
        "colab_type": "code",
        "colab": {}
      },
      "source": [
        "batch_size = 64\n",
        "\n",
        "#Setting up the model\n",
        "opt_rms = keras.optimizers.rmsprop(lr=0.001,decay=1e-6)\n",
        "model.compile(loss = 'categorical_crossentropy',\n",
        "              optimizer = opt_rms,\n",
        "              metrics = ['accuracy'])\n"
      ],
      "execution_count": 0,
      "outputs": []
    },
    {
      "cell_type": "code",
      "metadata": {
        "id": "ew5SCSU0M4zf",
        "colab_type": "code",
        "outputId": "66c2b59c-e9d2-403c-da57-e8d0c7f23dfc",
        "colab": {
          "base_uri": "https://localhost:8080/",
          "height": 1000
        }
      },
      "source": [
        "#fitting with train data\n",
        "\n",
        "model.fit(x_train, y_train, batch_size = batch_size, epochs = epochs, validation_data = (x_test, y_test), shuffle = True)"
      ],
      "execution_count": 0,
      "outputs": [
        {
          "output_type": "stream",
          "text": [
            "Train on 50000 samples, validate on 10000 samples\n",
            "Epoch 1/100\n",
            "50000/50000 [==============================] - 13s 266us/step - loss: 1.7096 - acc: 0.4882 - val_loss: 1.1989 - val_acc: 0.6161\n",
            "Epoch 2/100\n",
            "50000/50000 [==============================] - 11s 224us/step - loss: 1.0822 - acc: 0.6608 - val_loss: 0.8968 - val_acc: 0.7122\n",
            "Epoch 3/100\n",
            "50000/50000 [==============================] - 11s 222us/step - loss: 0.9087 - acc: 0.7144 - val_loss: 0.9542 - val_acc: 0.7032\n",
            "Epoch 4/100\n",
            "50000/50000 [==============================] - 11s 224us/step - loss: 0.8111 - acc: 0.7496 - val_loss: 0.7949 - val_acc: 0.7648\n",
            "Epoch 5/100\n",
            "50000/50000 [==============================] - 11s 228us/step - loss: 0.7423 - acc: 0.7767 - val_loss: 0.7636 - val_acc: 0.7752\n",
            "Epoch 6/100\n",
            "50000/50000 [==============================] - 11s 222us/step - loss: 0.6953 - acc: 0.7938 - val_loss: 0.7233 - val_acc: 0.7939\n",
            "Epoch 7/100\n",
            "50000/50000 [==============================] - 11s 224us/step - loss: 0.6606 - acc: 0.8096 - val_loss: 0.7250 - val_acc: 0.7959\n",
            "Epoch 8/100\n",
            "50000/50000 [==============================] - 11s 221us/step - loss: 0.6298 - acc: 0.8218 - val_loss: 0.7537 - val_acc: 0.7892\n",
            "Epoch 9/100\n",
            "50000/50000 [==============================] - 11s 222us/step - loss: 0.6036 - acc: 0.8320 - val_loss: 0.6576 - val_acc: 0.8220\n",
            "Epoch 10/100\n",
            "50000/50000 [==============================] - 11s 221us/step - loss: 0.5822 - acc: 0.8421 - val_loss: 0.6868 - val_acc: 0.8130\n",
            "Epoch 11/100\n",
            "50000/50000 [==============================] - 11s 222us/step - loss: 0.5600 - acc: 0.8514 - val_loss: 0.6750 - val_acc: 0.8203\n",
            "Epoch 12/100\n",
            "50000/50000 [==============================] - 11s 222us/step - loss: 0.5457 - acc: 0.8557 - val_loss: 0.6619 - val_acc: 0.8252\n",
            "Epoch 13/100\n",
            "50000/50000 [==============================] - 11s 221us/step - loss: 0.5359 - acc: 0.8605 - val_loss: 0.6445 - val_acc: 0.8377\n",
            "Epoch 14/100\n",
            "50000/50000 [==============================] - 11s 221us/step - loss: 0.5235 - acc: 0.8671 - val_loss: 0.6628 - val_acc: 0.8306\n",
            "Epoch 15/100\n",
            "50000/50000 [==============================] - 11s 221us/step - loss: 0.5159 - acc: 0.8719 - val_loss: 0.6864 - val_acc: 0.8231\n",
            "Epoch 16/100\n",
            "50000/50000 [==============================] - 11s 221us/step - loss: 0.5040 - acc: 0.8758 - val_loss: 0.6562 - val_acc: 0.8354\n",
            "Epoch 17/100\n",
            "50000/50000 [==============================] - 11s 221us/step - loss: 0.4983 - acc: 0.8794 - val_loss: 0.6377 - val_acc: 0.8440\n",
            "Epoch 18/100\n",
            "50000/50000 [==============================] - 11s 220us/step - loss: 0.4940 - acc: 0.8813 - val_loss: 0.6406 - val_acc: 0.8463\n",
            "Epoch 19/100\n",
            "50000/50000 [==============================] - 11s 221us/step - loss: 0.4841 - acc: 0.8873 - val_loss: 0.6576 - val_acc: 0.8365\n",
            "Epoch 20/100\n",
            "50000/50000 [==============================] - 11s 222us/step - loss: 0.4844 - acc: 0.8866 - val_loss: 0.6553 - val_acc: 0.8478\n",
            "Epoch 21/100\n",
            "50000/50000 [==============================] - 11s 220us/step - loss: 0.4762 - acc: 0.8906 - val_loss: 0.6457 - val_acc: 0.8476\n",
            "Epoch 22/100\n",
            "50000/50000 [==============================] - 11s 221us/step - loss: 0.4737 - acc: 0.8919 - val_loss: 0.6525 - val_acc: 0.8475\n",
            "Epoch 23/100\n",
            "50000/50000 [==============================] - 11s 221us/step - loss: 0.4660 - acc: 0.8952 - val_loss: 0.6669 - val_acc: 0.8394\n",
            "Epoch 24/100\n",
            "50000/50000 [==============================] - 11s 221us/step - loss: 0.4621 - acc: 0.8971 - val_loss: 0.6373 - val_acc: 0.8488\n",
            "Epoch 25/100\n",
            "50000/50000 [==============================] - 11s 221us/step - loss: 0.4649 - acc: 0.8969 - val_loss: 0.6619 - val_acc: 0.8407\n",
            "Epoch 26/100\n",
            "50000/50000 [==============================] - 11s 221us/step - loss: 0.4578 - acc: 0.8994 - val_loss: 0.6544 - val_acc: 0.8469\n",
            "Epoch 27/100\n",
            "50000/50000 [==============================] - 11s 220us/step - loss: 0.4539 - acc: 0.9019 - val_loss: 0.6879 - val_acc: 0.8447\n",
            "Epoch 28/100\n",
            "50000/50000 [==============================] - 11s 218us/step - loss: 0.4524 - acc: 0.9026 - val_loss: 0.6407 - val_acc: 0.8493\n",
            "Epoch 29/100\n",
            "50000/50000 [==============================] - 11s 222us/step - loss: 0.4479 - acc: 0.9044 - val_loss: 0.6676 - val_acc: 0.8475\n",
            "Epoch 30/100\n",
            "50000/50000 [==============================] - 11s 221us/step - loss: 0.4459 - acc: 0.9056 - val_loss: 0.7011 - val_acc: 0.8386\n",
            "Epoch 31/100\n",
            "50000/50000 [==============================] - 11s 220us/step - loss: 0.4453 - acc: 0.9056 - val_loss: 0.6362 - val_acc: 0.8549\n",
            "Epoch 32/100\n",
            "50000/50000 [==============================] - 11s 221us/step - loss: 0.4413 - acc: 0.9076 - val_loss: 0.6584 - val_acc: 0.8514\n",
            "Epoch 33/100\n",
            "50000/50000 [==============================] - 11s 228us/step - loss: 0.4397 - acc: 0.9099 - val_loss: 0.6618 - val_acc: 0.8458\n",
            "Epoch 34/100\n",
            "50000/50000 [==============================] - 11s 225us/step - loss: 0.4401 - acc: 0.9110 - val_loss: 0.6716 - val_acc: 0.8478\n",
            "Epoch 35/100\n",
            "50000/50000 [==============================] - 11s 221us/step - loss: 0.4385 - acc: 0.9098 - val_loss: 0.6687 - val_acc: 0.8486\n",
            "Epoch 36/100\n",
            "50000/50000 [==============================] - 11s 220us/step - loss: 0.4349 - acc: 0.9124 - val_loss: 0.6742 - val_acc: 0.8439\n",
            "Epoch 37/100\n",
            "50000/50000 [==============================] - 11s 221us/step - loss: 0.4347 - acc: 0.9119 - val_loss: 0.6799 - val_acc: 0.8491\n",
            "Epoch 38/100\n",
            "50000/50000 [==============================] - 11s 222us/step - loss: 0.4328 - acc: 0.9128 - val_loss: 0.6766 - val_acc: 0.8462\n",
            "Epoch 39/100\n",
            "50000/50000 [==============================] - 11s 221us/step - loss: 0.4258 - acc: 0.9149 - val_loss: 0.6582 - val_acc: 0.8547\n",
            "Epoch 40/100\n",
            "50000/50000 [==============================] - 11s 220us/step - loss: 0.4293 - acc: 0.9142 - val_loss: 0.6435 - val_acc: 0.8593\n",
            "Epoch 41/100\n",
            "50000/50000 [==============================] - 11s 221us/step - loss: 0.4252 - acc: 0.9161 - val_loss: 0.6853 - val_acc: 0.8474\n",
            "Epoch 42/100\n",
            "50000/50000 [==============================] - 11s 220us/step - loss: 0.4293 - acc: 0.9145 - val_loss: 0.6541 - val_acc: 0.8568\n",
            "Epoch 43/100\n",
            "50000/50000 [==============================] - 11s 220us/step - loss: 0.4182 - acc: 0.9177 - val_loss: 0.6724 - val_acc: 0.8518\n",
            "Epoch 44/100\n",
            "50000/50000 [==============================] - 11s 221us/step - loss: 0.4232 - acc: 0.9177 - val_loss: 0.6578 - val_acc: 0.8569\n",
            "Epoch 45/100\n",
            "50000/50000 [==============================] - 11s 221us/step - loss: 0.4259 - acc: 0.9162 - val_loss: 0.7258 - val_acc: 0.8442\n",
            "Epoch 46/100\n",
            "50000/50000 [==============================] - 11s 223us/step - loss: 0.4212 - acc: 0.9179 - val_loss: 0.6724 - val_acc: 0.8541\n",
            "Epoch 47/100\n",
            "50000/50000 [==============================] - 11s 221us/step - loss: 0.4217 - acc: 0.9171 - val_loss: 0.6886 - val_acc: 0.8444\n",
            "Epoch 48/100\n",
            "50000/50000 [==============================] - 11s 221us/step - loss: 0.4233 - acc: 0.9183 - val_loss: 0.6843 - val_acc: 0.8525\n",
            "Epoch 49/100\n",
            "50000/50000 [==============================] - 11s 221us/step - loss: 0.4152 - acc: 0.9212 - val_loss: 0.6622 - val_acc: 0.8573\n",
            "Epoch 50/100\n",
            "50000/50000 [==============================] - 11s 221us/step - loss: 0.4243 - acc: 0.9175 - val_loss: 0.6841 - val_acc: 0.8555\n",
            "Epoch 51/100\n",
            "50000/50000 [==============================] - 11s 222us/step - loss: 0.4146 - acc: 0.9212 - val_loss: 0.6627 - val_acc: 0.8588\n",
            "Epoch 52/100\n",
            "50000/50000 [==============================] - 11s 221us/step - loss: 0.4135 - acc: 0.9222 - val_loss: 0.6705 - val_acc: 0.8553\n",
            "Epoch 53/100\n",
            "50000/50000 [==============================] - 11s 221us/step - loss: 0.4145 - acc: 0.9214 - val_loss: 0.6482 - val_acc: 0.8578\n",
            "Epoch 54/100\n",
            "50000/50000 [==============================] - 11s 221us/step - loss: 0.4116 - acc: 0.9216 - val_loss: 0.6782 - val_acc: 0.8555\n",
            "Epoch 55/100\n",
            "50000/50000 [==============================] - 11s 221us/step - loss: 0.4117 - acc: 0.9222 - val_loss: 0.6639 - val_acc: 0.8580\n",
            "Epoch 56/100\n",
            "50000/50000 [==============================] - 11s 222us/step - loss: 0.4103 - acc: 0.9222 - val_loss: 0.6661 - val_acc: 0.8565\n",
            "Epoch 57/100\n",
            "50000/50000 [==============================] - 11s 220us/step - loss: 0.4096 - acc: 0.9230 - val_loss: 0.6843 - val_acc: 0.8501\n",
            "Epoch 58/100\n",
            "50000/50000 [==============================] - 11s 220us/step - loss: 0.4070 - acc: 0.9241 - val_loss: 0.6796 - val_acc: 0.8549\n",
            "Epoch 59/100\n",
            "50000/50000 [==============================] - 11s 221us/step - loss: 0.4078 - acc: 0.9239 - val_loss: 0.6684 - val_acc: 0.8574\n",
            "Epoch 60/100\n",
            "50000/50000 [==============================] - 11s 222us/step - loss: 0.4112 - acc: 0.9225 - val_loss: 0.6778 - val_acc: 0.8565\n",
            "Epoch 61/100\n",
            "50000/50000 [==============================] - 11s 228us/step - loss: 0.4046 - acc: 0.9242 - val_loss: 0.6380 - val_acc: 0.8637\n",
            "Epoch 62/100\n",
            "50000/50000 [==============================] - 11s 225us/step - loss: 0.4034 - acc: 0.9251 - val_loss: 0.6585 - val_acc: 0.8604\n",
            "Epoch 63/100\n",
            "50000/50000 [==============================] - 11s 221us/step - loss: 0.4056 - acc: 0.9240 - val_loss: 0.6700 - val_acc: 0.8578\n",
            "Epoch 64/100\n",
            "50000/50000 [==============================] - 11s 222us/step - loss: 0.4078 - acc: 0.9248 - val_loss: 0.6429 - val_acc: 0.8658\n",
            "Epoch 65/100\n",
            "50000/50000 [==============================] - 11s 221us/step - loss: 0.4041 - acc: 0.9249 - val_loss: 0.6495 - val_acc: 0.8672\n",
            "Epoch 66/100\n",
            "50000/50000 [==============================] - 11s 221us/step - loss: 0.3994 - acc: 0.9261 - val_loss: 0.6724 - val_acc: 0.8558\n",
            "Epoch 67/100\n",
            "50000/50000 [==============================] - 11s 221us/step - loss: 0.4040 - acc: 0.9257 - val_loss: 0.6579 - val_acc: 0.8593\n",
            "Epoch 68/100\n",
            "50000/50000 [==============================] - 11s 220us/step - loss: 0.4029 - acc: 0.9264 - val_loss: 0.6670 - val_acc: 0.8599\n",
            "Epoch 69/100\n",
            "50000/50000 [==============================] - 11s 221us/step - loss: 0.3998 - acc: 0.9257 - val_loss: 0.6806 - val_acc: 0.8574\n",
            "Epoch 70/100\n",
            "50000/50000 [==============================] - 11s 221us/step - loss: 0.4013 - acc: 0.9265 - val_loss: 0.6573 - val_acc: 0.8610\n",
            "Epoch 71/100\n",
            "50000/50000 [==============================] - 11s 220us/step - loss: 0.3959 - acc: 0.9286 - val_loss: 0.6707 - val_acc: 0.8580\n",
            "Epoch 72/100\n",
            "50000/50000 [==============================] - 11s 220us/step - loss: 0.3992 - acc: 0.9259 - val_loss: 0.6733 - val_acc: 0.8552\n",
            "Epoch 73/100\n",
            "50000/50000 [==============================] - 11s 222us/step - loss: 0.3928 - acc: 0.9287 - val_loss: 0.6932 - val_acc: 0.8542\n",
            "Epoch 74/100\n",
            "50000/50000 [==============================] - 11s 221us/step - loss: 0.3953 - acc: 0.9286 - val_loss: 0.6730 - val_acc: 0.8552\n",
            "Epoch 75/100\n",
            "50000/50000 [==============================] - 11s 221us/step - loss: 0.3962 - acc: 0.9274 - val_loss: 0.6785 - val_acc: 0.8598\n",
            "Epoch 76/100\n",
            "50000/50000 [==============================] - 11s 221us/step - loss: 0.3978 - acc: 0.9279 - val_loss: 0.6439 - val_acc: 0.8648\n",
            "Epoch 77/100\n",
            "50000/50000 [==============================] - 11s 221us/step - loss: 0.3917 - acc: 0.9294 - val_loss: 0.6615 - val_acc: 0.8623\n",
            "Epoch 78/100\n",
            "50000/50000 [==============================] - 11s 222us/step - loss: 0.3926 - acc: 0.9299 - val_loss: 0.6810 - val_acc: 0.8546\n",
            "Epoch 79/100\n",
            "50000/50000 [==============================] - 11s 221us/step - loss: 0.3953 - acc: 0.9281 - val_loss: 0.6790 - val_acc: 0.8555\n",
            "Epoch 80/100\n",
            "50000/50000 [==============================] - 11s 220us/step - loss: 0.3978 - acc: 0.9279 - val_loss: 0.6720 - val_acc: 0.8570\n",
            "Epoch 81/100\n",
            "50000/50000 [==============================] - 11s 222us/step - loss: 0.3909 - acc: 0.9295 - val_loss: 0.6864 - val_acc: 0.8552\n",
            "Epoch 82/100\n",
            "50000/50000 [==============================] - 11s 220us/step - loss: 0.3947 - acc: 0.9288 - val_loss: 0.6784 - val_acc: 0.8536\n",
            "Epoch 83/100\n",
            "50000/50000 [==============================] - 11s 221us/step - loss: 0.3916 - acc: 0.9301 - val_loss: 0.6528 - val_acc: 0.8628\n",
            "Epoch 84/100\n",
            "50000/50000 [==============================] - 11s 221us/step - loss: 0.3886 - acc: 0.9315 - val_loss: 0.6582 - val_acc: 0.8640\n",
            "Epoch 85/100\n",
            "50000/50000 [==============================] - 11s 221us/step - loss: 0.3874 - acc: 0.9309 - val_loss: 0.6750 - val_acc: 0.8546\n",
            "Epoch 86/100\n",
            "50000/50000 [==============================] - 11s 221us/step - loss: 0.3894 - acc: 0.9301 - val_loss: 0.7040 - val_acc: 0.8548\n",
            "Epoch 87/100\n",
            "50000/50000 [==============================] - 11s 221us/step - loss: 0.3898 - acc: 0.9296 - val_loss: 0.6497 - val_acc: 0.8669\n",
            "Epoch 88/100\n",
            "50000/50000 [==============================] - 11s 220us/step - loss: 0.3892 - acc: 0.9297 - val_loss: 0.7715 - val_acc: 0.8425\n",
            "Epoch 89/100\n",
            "50000/50000 [==============================] - 12s 231us/step - loss: 0.3905 - acc: 0.9294 - val_loss: 0.6524 - val_acc: 0.8587\n",
            "Epoch 90/100\n",
            "50000/50000 [==============================] - 11s 223us/step - loss: 0.3852 - acc: 0.9312 - val_loss: 0.6590 - val_acc: 0.8619\n",
            "Epoch 91/100\n",
            "50000/50000 [==============================] - 11s 220us/step - loss: 0.3844 - acc: 0.9313 - val_loss: 0.6684 - val_acc: 0.8617\n",
            "Epoch 92/100\n",
            "50000/50000 [==============================] - 11s 220us/step - loss: 0.3868 - acc: 0.9316 - val_loss: 0.6612 - val_acc: 0.8602\n",
            "Epoch 93/100\n",
            "50000/50000 [==============================] - 11s 220us/step - loss: 0.3850 - acc: 0.9327 - val_loss: 0.6716 - val_acc: 0.8630\n",
            "Epoch 94/100\n",
            "50000/50000 [==============================] - 11s 220us/step - loss: 0.3865 - acc: 0.9301 - val_loss: 0.6785 - val_acc: 0.8576\n",
            "Epoch 95/100\n",
            "50000/50000 [==============================] - 11s 221us/step - loss: 0.3854 - acc: 0.9313 - val_loss: 0.6635 - val_acc: 0.8573\n",
            "Epoch 96/100\n",
            "50000/50000 [==============================] - 11s 221us/step - loss: 0.3807 - acc: 0.9326 - val_loss: 0.6616 - val_acc: 0.8609\n",
            "Epoch 97/100\n",
            "50000/50000 [==============================] - 11s 222us/step - loss: 0.3818 - acc: 0.9317 - val_loss: 0.6567 - val_acc: 0.8644\n",
            "Epoch 98/100\n",
            "50000/50000 [==============================] - 11s 221us/step - loss: 0.3834 - acc: 0.9320 - val_loss: 0.6659 - val_acc: 0.8567\n",
            "Epoch 99/100\n",
            "50000/50000 [==============================] - 11s 221us/step - loss: 0.3835 - acc: 0.9326 - val_loss: 0.6636 - val_acc: 0.8622\n",
            "Epoch 100/100\n",
            "50000/50000 [==============================] - 11s 222us/step - loss: 0.3788 - acc: 0.9336 - val_loss: 0.6449 - val_acc: 0.8644\n"
          ],
          "name": "stdout"
        },
        {
          "output_type": "execute_result",
          "data": {
            "text/plain": [
              "<keras.callbacks.History at 0x7f4792571898>"
            ]
          },
          "metadata": {
            "tags": []
          },
          "execution_count": 110
        }
      ]
    },
    {
      "cell_type": "code",
      "metadata": {
        "id": "nsaCIfbPNOgq",
        "colab_type": "code",
        "outputId": "c9e5fcf6-2daf-435f-a786-e0e9b9a2d1b6",
        "colab": {
          "base_uri": "https://localhost:8080/",
          "height": 68
        }
      },
      "source": [
        "scores = model.evaluate(x_test, y_test, verbose=1)\n",
        "print('Test loss:', scores[0])\n",
        "print('Test accuracy:', scores[1])"
      ],
      "execution_count": 0,
      "outputs": [
        {
          "output_type": "stream",
          "text": [
            "10000/10000 [==============================] - 1s 110us/step\n",
            "Test loss: 0.6448749792575836\n",
            "Test accuracy: 0.8644\n"
          ],
          "name": "stdout"
        }
      ]
    }
  ]
}